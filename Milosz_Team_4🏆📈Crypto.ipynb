{
  "nbformat": 4,
  "nbformat_minor": 0,
  "metadata": {
    "colab": {
      "provenance": [],
      "include_colab_link": true
    },
    "kernelspec": {
      "name": "python3",
      "display_name": "Python 3"
    },
    "language_info": {
      "name": "python"
    },
    "accelerator": "GPU"
  },
  "cells": [
    {
      "cell_type": "markdown",
      "metadata": {
        "id": "view-in-github",
        "colab_type": "text"
      },
      "source": [
        "<a href=\"https://colab.research.google.com/github/krasomil/CodeMonkeyApplication/blob/master/Milosz_Team_4%F0%9F%8F%86%F0%9F%93%88Crypto.ipynb\" target=\"_parent\"><img src=\"https://colab.research.google.com/assets/colab-badge.svg\" alt=\"Open In Colab\"/></a>"
      ]
    },
    {
      "cell_type": "markdown",
      "metadata": {
        "id": "RngKMAelr3-Q"
      },
      "source": [
        "<small><font color=gray>Notebook author: <a href=\"https://www.linkedin.com/in/olegmelnikov/\" target=\"_blank\">Oleg Melnikov</a> ©2021 onwards</font></small><hr style=\"margin:0;background-color:silver\">\n",
        "\n",
        "**[<font size=6>📈Crypto</font>](https://www.kaggle.com/competitions/30oct23jh-crypto/rules)**. [**Instructions**](https://colab.research.google.com/drive/1riOGrE_Fv-yfIbM5V4pgJx4DWcd92cZr#scrollTo=ITaPDPIQEgXV) for running Colabs."
      ]
    },
    {
      "cell_type": "markdown",
      "source": [
        "<small>**(Optional) CONSENT.** <mark>[ X ]</mark> We consent to sharing our Colab (after the assignment ends) with other students/instructors for educational purposes. We understand that sharing is optional and this decision will not affect our grade in any way. <font color=gray><i>(If ok with sharing your Colab for educational purposes, leave \"X\" in the check box.)</i></font></small>"
      ],
      "metadata": {
        "id": "SC0pgp0bNK0s"
      }
    },
    {
      "cell_type": "code",
      "source": [
        "from google.colab import drive; drive.mount('/content/drive')   # OK to enable, if kaggle.json is stored in Google Drive"
      ],
      "metadata": {
        "id": "lUqrHtk9a031",
        "colab": {
          "base_uri": "https://localhost:8080/"
        },
        "outputId": "f1540c08-fb8d-45ec-acfe-66be2363f4ec"
      },
      "execution_count": 1,
      "outputs": [
        {
          "output_type": "stream",
          "name": "stdout",
          "text": [
            "Mounted at /content/drive\n"
          ]
        }
      ]
    },
    {
      "cell_type": "code",
      "metadata": {
        "id": "7mfoxO3JKx3r"
      },
      "source": [
        "# !pip -q install tensorflow==2.8 > log\n",
        "# !apt -q install --allow-change-held-packages libcudnn8=8.1.0.77-1+cuda11.2 >> log\n",
        "!pip -q install -U tfds-nightly tensorflow_addons tensorflow >> log"
      ],
      "execution_count": 2,
      "outputs": []
    },
    {
      "cell_type": "code",
      "source": [
        "!pip -q install --upgrade --force-reinstall --no-deps kaggle > log  # upgrade kaggle package (to avoid a warning)\n",
        "!mkdir -p ~/.kaggle                               # .kaggle folder must contain kaggle.json for kaggle executable to properly authenticate you to Kaggle.com\n",
        "!cp /content/drive/MyDrive/kaggle.json ~/.kaggle/kaggle.json >log  # First, download kaggle.json from kaggle.com (in Account page) and place it in the root of mounted Google Drive\n",
        "# !cp kaggle.json ~/.kaggle/kaggle.json > log       # Alternative location of kaggle.json (without a connection to Google Drive)\n",
        "!chmod 600 ~/.kaggle/kaggle.json                  # give only the owner full read/write access to kaggle.json\n",
        "!kaggle config set -n competition -v 30oct23jh-crypto   # set the competition context for the next few kaggle API calls. !kaggle config view - shows current settings\n",
        "!kaggle competitions download >> log              # download competition dataset as a zip file\n",
        "!unzip -o *.zip >> log                            # Kaggle dataset is copied as a single file and needs to be unzipped.\n",
        "!kaggle competitions leaderboard --show           # print public leaderboard"
      ],
      "metadata": {
        "colab": {
          "base_uri": "https://localhost:8080/"
        },
        "id": "VHAYCFFkbGCF",
        "outputId": "8b0c068d-38a3-4664-ef14-9c37f4805621"
      },
      "execution_count": 3,
      "outputs": [
        {
          "output_type": "stream",
          "name": "stdout",
          "text": [
            "- competition is now set to: 30oct23jh-crypto\n",
            "100% 5.94M/5.94M [00:00<00:00, 106MB/s]\n",
            "Using competition: 30oct23jh-crypto\n",
            "  teamId  teamName               submissionDate       score    \n",
            "--------  ---------------------  -------------------  -------  \n",
            "11192320  Brett Wolff            2023-11-07 18:38:02  0.15719  \n",
            "11198447  Marko Zlatic           2023-11-07 01:51:22  0.15045  \n",
            "11165029  Chris Durbin           2023-11-07 00:07:04  0.14974  \n",
            "11205221  Baty Daniel            2023-11-07 16:22:47  0.14859  \n",
            "11197707  Alec Wayne             2023-11-07 00:10:32  0.14275  \n",
            "11197548  Alejandro Eguiarte     2023-11-07 02:02:13  0.13922  \n",
            "10944814  📈Baseline🐍             2023-09-20 18:50:41  0.13056  \n",
            "11147941  Sterling Belleau       2023-11-06 18:48:14  0.13012  \n",
            "11193615  Edward Chang           2023-11-07 07:04:55  0.12930  \n",
            "11198680  milosz.krasowski       2023-11-06 21:36:17  0.12876  \n",
            "11194503  Phanupong Pattanachai  2023-11-07 06:42:37  0.12590  \n"
          ]
        }
      ]
    },
    {
      "cell_type": "markdown",
      "metadata": {
        "id": "aCP_1mf5nPKa"
      },
      "source": [
        "See [more](https://nvidia.custhelp.com/app/answers/detail/a_id/3751/~/useful-nvidia-smi-queries) about NVIDIA GPU stats. Test your code in (free) Colab. It uses Tesla K80 GPU."
      ]
    },
    {
      "cell_type": "code",
      "metadata": {
        "colab": {
          "base_uri": "https://localhost:8080/"
        },
        "id": "x0PisekMlkbV",
        "outputId": "d9056367-4d21-4656-e665-48dff9e08c32"
      },
      "source": [
        "!nvidia-smi --query-gpu=gpu_name,memory.total,memory.free,memory.used --format=csv"
      ],
      "execution_count": 4,
      "outputs": [
        {
          "output_type": "stream",
          "name": "stdout",
          "text": [
            "name, memory.total [MiB], memory.free [MiB], memory.used [MiB]\n",
            "Tesla T4, 15360 MiB, 15101 MiB, 0 MiB\n"
          ]
        }
      ]
    },
    {
      "cell_type": "code",
      "metadata": {
        "id": "GiUF7QG0Tnk8"
      },
      "source": [
        "!pip -q install -U tensorflow_addons > log   # update tfa in case students need to use it"
      ],
      "execution_count": 5,
      "outputs": []
    },
    {
      "cell_type": "code",
      "metadata": {
        "colab": {
          "base_uri": "https://localhost:8080/"
        },
        "id": "XNs8WbjzTp71",
        "outputId": "8a593a14-f663-462c-e6c0-755d5a75ac4f"
      },
      "source": [
        "%%time\n",
        "%%capture\n",
        "%reset -f\n",
        "from IPython.core.interactiveshell import InteractiveShell as IS; IS.ast_node_interactivity = \"all\"\n",
        "import numpy as np, pandas as pd, time, matplotlib.pyplot as plt, os\n",
        "import tensorflow_addons as tfa, tensorflow as tf, tensorflow.keras as keras, tensorflow_datasets as tfds\n",
        "from keras.models import Sequential\n",
        "from keras.layers import Flatten, Dense, Dropout, MaxPooling2D, Conv2D, GlobalAveragePooling2D\n",
        "from tensorflow.keras.layers import SimpleRNN, Flatten, Dense, RNN, LSTM, TimeDistributed\n",
        "os.environ['TF_DETERMINISTIC_OPS'] = '1'; os.environ['TF_CUDNN_DETERMINISTIC'] = '1'; # allows seeding RNG on GPU\n",
        "ToCSV = lambda df, fname: df.round(2).to_csv(f'{fname}.csv', index_label='id') # rounds values to 2 decimals\n",
        "\n",
        "class Timer():\n",
        "  def __init__(self, lim:'RunTimeLimit'=60*5): self.t0, self.lim, _ = time.time(), lim, print(f'⏳ started. You have {lim} sec. Good luck!')\n",
        "  def ShowTime(self):\n",
        "    msg = f'Runtime is {time.time()-self.t0:.0f} sec'\n",
        "    print(f'\\033[91m\\033[1m' + msg + f' > {self.lim} sec limit!!!\\033[0m' if (time.time()-self.t0-1) > self.lim else msg)\n",
        "\n",
        "np.set_printoptions(linewidth=100, precision=2, edgeitems=5, suppress=True)\n",
        "pd.set_option('display.max_columns', 20, 'display.precision', 2, 'display.max_rows', 4)"
      ],
      "execution_count": 6,
      "outputs": [
        {
          "output_type": "stream",
          "name": "stdout",
          "text": [
            "CPU times: user 4.31 s, sys: 514 ms, total: 4.83 s\n",
            "Wall time: 5.92 s\n"
          ]
        }
      ]
    },
    {
      "cell_type": "markdown",
      "metadata": {
        "id": "PgkRR6ZWTthh"
      },
      "source": [
        "Your training data are 7 descriptive features for past 500K observations. See helpful [Tutorial to the G-Research Crypto Competition](https://www.kaggle.com/cstein06/tutorial-to-the-g-research-crypto-competition)."
      ]
    },
    {
      "cell_type": "code",
      "metadata": {
        "id": "wsKZJFsLTvg2",
        "colab": {
          "base_uri": "https://localhost:8080/",
          "height": 267
        },
        "outputId": "ca730c21-d3e2-400d-c23b-7bd36d0b1a35"
      },
      "source": [
        "tXY = pd.read_csv('tXY.csv', index_col='id'); tXY"
      ],
      "execution_count": 7,
      "outputs": [
        {
          "output_type": "execute_result",
          "data": {
            "text/plain": [
              "        Count  Open  High   Low  Close  Volume  VWAP\n",
              "id                                                  \n",
              "0          64  0.20  0.20  0.20   0.20     447  0.20\n",
              "1          72  0.20  0.20  0.20   0.20     592  0.20\n",
              "...       ...   ...   ...   ...    ...     ...   ...\n",
              "499998   1636  1.15  1.16  1.15   1.15    2615  1.15\n",
              "499999   3228  1.13  1.14  1.12   1.13    3354  1.13\n",
              "\n",
              "[500000 rows x 7 columns]"
            ],
            "text/html": [
              "\n",
              "  <div id=\"df-647fca62-0888-4e66-a385-c933be87e51c\" class=\"colab-df-container\">\n",
              "    <div>\n",
              "<style scoped>\n",
              "    .dataframe tbody tr th:only-of-type {\n",
              "        vertical-align: middle;\n",
              "    }\n",
              "\n",
              "    .dataframe tbody tr th {\n",
              "        vertical-align: top;\n",
              "    }\n",
              "\n",
              "    .dataframe thead th {\n",
              "        text-align: right;\n",
              "    }\n",
              "</style>\n",
              "<table border=\"1\" class=\"dataframe\">\n",
              "  <thead>\n",
              "    <tr style=\"text-align: right;\">\n",
              "      <th></th>\n",
              "      <th>Count</th>\n",
              "      <th>Open</th>\n",
              "      <th>High</th>\n",
              "      <th>Low</th>\n",
              "      <th>Close</th>\n",
              "      <th>Volume</th>\n",
              "      <th>VWAP</th>\n",
              "    </tr>\n",
              "    <tr>\n",
              "      <th>id</th>\n",
              "      <th></th>\n",
              "      <th></th>\n",
              "      <th></th>\n",
              "      <th></th>\n",
              "      <th></th>\n",
              "      <th></th>\n",
              "      <th></th>\n",
              "    </tr>\n",
              "  </thead>\n",
              "  <tbody>\n",
              "    <tr>\n",
              "      <th>0</th>\n",
              "      <td>64</td>\n",
              "      <td>0.20</td>\n",
              "      <td>0.20</td>\n",
              "      <td>0.20</td>\n",
              "      <td>0.20</td>\n",
              "      <td>447</td>\n",
              "      <td>0.20</td>\n",
              "    </tr>\n",
              "    <tr>\n",
              "      <th>1</th>\n",
              "      <td>72</td>\n",
              "      <td>0.20</td>\n",
              "      <td>0.20</td>\n",
              "      <td>0.20</td>\n",
              "      <td>0.20</td>\n",
              "      <td>592</td>\n",
              "      <td>0.20</td>\n",
              "    </tr>\n",
              "    <tr>\n",
              "      <th>...</th>\n",
              "      <td>...</td>\n",
              "      <td>...</td>\n",
              "      <td>...</td>\n",
              "      <td>...</td>\n",
              "      <td>...</td>\n",
              "      <td>...</td>\n",
              "      <td>...</td>\n",
              "    </tr>\n",
              "    <tr>\n",
              "      <th>499998</th>\n",
              "      <td>1636</td>\n",
              "      <td>1.15</td>\n",
              "      <td>1.16</td>\n",
              "      <td>1.15</td>\n",
              "      <td>1.15</td>\n",
              "      <td>2615</td>\n",
              "      <td>1.15</td>\n",
              "    </tr>\n",
              "    <tr>\n",
              "      <th>499999</th>\n",
              "      <td>3228</td>\n",
              "      <td>1.13</td>\n",
              "      <td>1.14</td>\n",
              "      <td>1.12</td>\n",
              "      <td>1.13</td>\n",
              "      <td>3354</td>\n",
              "      <td>1.13</td>\n",
              "    </tr>\n",
              "  </tbody>\n",
              "</table>\n",
              "<p>500000 rows × 7 columns</p>\n",
              "</div>\n",
              "    <div class=\"colab-df-buttons\">\n",
              "\n",
              "  <div class=\"colab-df-container\">\n",
              "    <button class=\"colab-df-convert\" onclick=\"convertToInteractive('df-647fca62-0888-4e66-a385-c933be87e51c')\"\n",
              "            title=\"Convert this dataframe to an interactive table.\"\n",
              "            style=\"display:none;\">\n",
              "\n",
              "  <svg xmlns=\"http://www.w3.org/2000/svg\" height=\"24px\" viewBox=\"0 -960 960 960\">\n",
              "    <path d=\"M120-120v-720h720v720H120Zm60-500h600v-160H180v160Zm220 220h160v-160H400v160Zm0 220h160v-160H400v160ZM180-400h160v-160H180v160Zm440 0h160v-160H620v160ZM180-180h160v-160H180v160Zm440 0h160v-160H620v160Z\"/>\n",
              "  </svg>\n",
              "    </button>\n",
              "\n",
              "  <style>\n",
              "    .colab-df-container {\n",
              "      display:flex;\n",
              "      gap: 12px;\n",
              "    }\n",
              "\n",
              "    .colab-df-convert {\n",
              "      background-color: #E8F0FE;\n",
              "      border: none;\n",
              "      border-radius: 50%;\n",
              "      cursor: pointer;\n",
              "      display: none;\n",
              "      fill: #1967D2;\n",
              "      height: 32px;\n",
              "      padding: 0 0 0 0;\n",
              "      width: 32px;\n",
              "    }\n",
              "\n",
              "    .colab-df-convert:hover {\n",
              "      background-color: #E2EBFA;\n",
              "      box-shadow: 0px 1px 2px rgba(60, 64, 67, 0.3), 0px 1px 3px 1px rgba(60, 64, 67, 0.15);\n",
              "      fill: #174EA6;\n",
              "    }\n",
              "\n",
              "    .colab-df-buttons div {\n",
              "      margin-bottom: 4px;\n",
              "    }\n",
              "\n",
              "    [theme=dark] .colab-df-convert {\n",
              "      background-color: #3B4455;\n",
              "      fill: #D2E3FC;\n",
              "    }\n",
              "\n",
              "    [theme=dark] .colab-df-convert:hover {\n",
              "      background-color: #434B5C;\n",
              "      box-shadow: 0px 1px 3px 1px rgba(0, 0, 0, 0.15);\n",
              "      filter: drop-shadow(0px 1px 2px rgba(0, 0, 0, 0.3));\n",
              "      fill: #FFFFFF;\n",
              "    }\n",
              "  </style>\n",
              "\n",
              "    <script>\n",
              "      const buttonEl =\n",
              "        document.querySelector('#df-647fca62-0888-4e66-a385-c933be87e51c button.colab-df-convert');\n",
              "      buttonEl.style.display =\n",
              "        google.colab.kernel.accessAllowed ? 'block' : 'none';\n",
              "\n",
              "      async function convertToInteractive(key) {\n",
              "        const element = document.querySelector('#df-647fca62-0888-4e66-a385-c933be87e51c');\n",
              "        const dataTable =\n",
              "          await google.colab.kernel.invokeFunction('convertToInteractive',\n",
              "                                                    [key], {});\n",
              "        if (!dataTable) return;\n",
              "\n",
              "        const docLinkHtml = 'Like what you see? Visit the ' +\n",
              "          '<a target=\"_blank\" href=https://colab.research.google.com/notebooks/data_table.ipynb>data table notebook</a>'\n",
              "          + ' to learn more about interactive tables.';\n",
              "        element.innerHTML = '';\n",
              "        dataTable['output_type'] = 'display_data';\n",
              "        await google.colab.output.renderOutput(dataTable, element);\n",
              "        const docLink = document.createElement('div');\n",
              "        docLink.innerHTML = docLinkHtml;\n",
              "        element.appendChild(docLink);\n",
              "      }\n",
              "    </script>\n",
              "  </div>\n",
              "\n",
              "\n",
              "<div id=\"df-069bc0f4-6f9d-45bc-9e36-adf7422a6353\">\n",
              "  <button class=\"colab-df-quickchart\" onclick=\"quickchart('df-069bc0f4-6f9d-45bc-9e36-adf7422a6353')\"\n",
              "            title=\"Suggest charts\"\n",
              "            style=\"display:none;\">\n",
              "\n",
              "<svg xmlns=\"http://www.w3.org/2000/svg\" height=\"24px\"viewBox=\"0 0 24 24\"\n",
              "     width=\"24px\">\n",
              "    <g>\n",
              "        <path d=\"M19 3H5c-1.1 0-2 .9-2 2v14c0 1.1.9 2 2 2h14c1.1 0 2-.9 2-2V5c0-1.1-.9-2-2-2zM9 17H7v-7h2v7zm4 0h-2V7h2v10zm4 0h-2v-4h2v4z\"/>\n",
              "    </g>\n",
              "</svg>\n",
              "  </button>\n",
              "\n",
              "<style>\n",
              "  .colab-df-quickchart {\n",
              "      --bg-color: #E8F0FE;\n",
              "      --fill-color: #1967D2;\n",
              "      --hover-bg-color: #E2EBFA;\n",
              "      --hover-fill-color: #174EA6;\n",
              "      --disabled-fill-color: #AAA;\n",
              "      --disabled-bg-color: #DDD;\n",
              "  }\n",
              "\n",
              "  [theme=dark] .colab-df-quickchart {\n",
              "      --bg-color: #3B4455;\n",
              "      --fill-color: #D2E3FC;\n",
              "      --hover-bg-color: #434B5C;\n",
              "      --hover-fill-color: #FFFFFF;\n",
              "      --disabled-bg-color: #3B4455;\n",
              "      --disabled-fill-color: #666;\n",
              "  }\n",
              "\n",
              "  .colab-df-quickchart {\n",
              "    background-color: var(--bg-color);\n",
              "    border: none;\n",
              "    border-radius: 50%;\n",
              "    cursor: pointer;\n",
              "    display: none;\n",
              "    fill: var(--fill-color);\n",
              "    height: 32px;\n",
              "    padding: 0;\n",
              "    width: 32px;\n",
              "  }\n",
              "\n",
              "  .colab-df-quickchart:hover {\n",
              "    background-color: var(--hover-bg-color);\n",
              "    box-shadow: 0 1px 2px rgba(60, 64, 67, 0.3), 0 1px 3px 1px rgba(60, 64, 67, 0.15);\n",
              "    fill: var(--button-hover-fill-color);\n",
              "  }\n",
              "\n",
              "  .colab-df-quickchart-complete:disabled,\n",
              "  .colab-df-quickchart-complete:disabled:hover {\n",
              "    background-color: var(--disabled-bg-color);\n",
              "    fill: var(--disabled-fill-color);\n",
              "    box-shadow: none;\n",
              "  }\n",
              "\n",
              "  .colab-df-spinner {\n",
              "    border: 2px solid var(--fill-color);\n",
              "    border-color: transparent;\n",
              "    border-bottom-color: var(--fill-color);\n",
              "    animation:\n",
              "      spin 1s steps(1) infinite;\n",
              "  }\n",
              "\n",
              "  @keyframes spin {\n",
              "    0% {\n",
              "      border-color: transparent;\n",
              "      border-bottom-color: var(--fill-color);\n",
              "      border-left-color: var(--fill-color);\n",
              "    }\n",
              "    20% {\n",
              "      border-color: transparent;\n",
              "      border-left-color: var(--fill-color);\n",
              "      border-top-color: var(--fill-color);\n",
              "    }\n",
              "    30% {\n",
              "      border-color: transparent;\n",
              "      border-left-color: var(--fill-color);\n",
              "      border-top-color: var(--fill-color);\n",
              "      border-right-color: var(--fill-color);\n",
              "    }\n",
              "    40% {\n",
              "      border-color: transparent;\n",
              "      border-right-color: var(--fill-color);\n",
              "      border-top-color: var(--fill-color);\n",
              "    }\n",
              "    60% {\n",
              "      border-color: transparent;\n",
              "      border-right-color: var(--fill-color);\n",
              "    }\n",
              "    80% {\n",
              "      border-color: transparent;\n",
              "      border-right-color: var(--fill-color);\n",
              "      border-bottom-color: var(--fill-color);\n",
              "    }\n",
              "    90% {\n",
              "      border-color: transparent;\n",
              "      border-bottom-color: var(--fill-color);\n",
              "    }\n",
              "  }\n",
              "</style>\n",
              "\n",
              "  <script>\n",
              "    async function quickchart(key) {\n",
              "      const quickchartButtonEl =\n",
              "        document.querySelector('#' + key + ' button');\n",
              "      quickchartButtonEl.disabled = true;  // To prevent multiple clicks.\n",
              "      quickchartButtonEl.classList.add('colab-df-spinner');\n",
              "      try {\n",
              "        const charts = await google.colab.kernel.invokeFunction(\n",
              "            'suggestCharts', [key], {});\n",
              "      } catch (error) {\n",
              "        console.error('Error during call to suggestCharts:', error);\n",
              "      }\n",
              "      quickchartButtonEl.classList.remove('colab-df-spinner');\n",
              "      quickchartButtonEl.classList.add('colab-df-quickchart-complete');\n",
              "    }\n",
              "    (() => {\n",
              "      let quickchartButtonEl =\n",
              "        document.querySelector('#df-069bc0f4-6f9d-45bc-9e36-adf7422a6353 button');\n",
              "      quickchartButtonEl.style.display =\n",
              "        google.colab.kernel.accessAllowed ? 'block' : 'none';\n",
              "    })();\n",
              "  </script>\n",
              "</div>\n",
              "    </div>\n",
              "  </div>\n"
            ]
          },
          "metadata": {},
          "execution_count": 7
        }
      ]
    },
    {
      "cell_type": "markdown",
      "metadata": {
        "id": "1FtA9fjlTyAi"
      },
      "source": [
        "Your task is to forecast the closing price for all future time steps (index IDs below)."
      ]
    },
    {
      "cell_type": "code",
      "metadata": {
        "colab": {
          "base_uri": "https://localhost:8080/",
          "height": 110
        },
        "id": "bQjKkPbnTzf2",
        "outputId": "5a4f159b-2a8f-460e-8c61-c475d1b47eab"
      },
      "source": [
        "pY = pd.read_csv('sampleSubmission.csv', index_col='id'); pY.T"
      ],
      "execution_count": 8,
      "outputs": [
        {
          "output_type": "execute_result",
          "data": {
            "text/plain": [
              "id     500000  500001  500002  500003  500004  500005  500006  500007  500008  \\\n",
              "Close       0       0       0       0       0       0       0       0       0   \n",
              "\n",
              "id     500009  ...  524421  524422  524423  524424  524425  524426  524427  \\\n",
              "Close       0  ...       0       0       0       0       0       0       0   \n",
              "\n",
              "id     524428  524429  524430  \n",
              "Close       0       0       0  \n",
              "\n",
              "[1 rows x 24431 columns]"
            ],
            "text/html": [
              "\n",
              "  <div id=\"df-cdda66ba-7efd-4472-83e2-49d0f35b905f\" class=\"colab-df-container\">\n",
              "    <div>\n",
              "<style scoped>\n",
              "    .dataframe tbody tr th:only-of-type {\n",
              "        vertical-align: middle;\n",
              "    }\n",
              "\n",
              "    .dataframe tbody tr th {\n",
              "        vertical-align: top;\n",
              "    }\n",
              "\n",
              "    .dataframe thead th {\n",
              "        text-align: right;\n",
              "    }\n",
              "</style>\n",
              "<table border=\"1\" class=\"dataframe\">\n",
              "  <thead>\n",
              "    <tr style=\"text-align: right;\">\n",
              "      <th>id</th>\n",
              "      <th>500000</th>\n",
              "      <th>500001</th>\n",
              "      <th>500002</th>\n",
              "      <th>500003</th>\n",
              "      <th>500004</th>\n",
              "      <th>500005</th>\n",
              "      <th>500006</th>\n",
              "      <th>500007</th>\n",
              "      <th>500008</th>\n",
              "      <th>500009</th>\n",
              "      <th>...</th>\n",
              "      <th>524421</th>\n",
              "      <th>524422</th>\n",
              "      <th>524423</th>\n",
              "      <th>524424</th>\n",
              "      <th>524425</th>\n",
              "      <th>524426</th>\n",
              "      <th>524427</th>\n",
              "      <th>524428</th>\n",
              "      <th>524429</th>\n",
              "      <th>524430</th>\n",
              "    </tr>\n",
              "  </thead>\n",
              "  <tbody>\n",
              "    <tr>\n",
              "      <th>Close</th>\n",
              "      <td>0</td>\n",
              "      <td>0</td>\n",
              "      <td>0</td>\n",
              "      <td>0</td>\n",
              "      <td>0</td>\n",
              "      <td>0</td>\n",
              "      <td>0</td>\n",
              "      <td>0</td>\n",
              "      <td>0</td>\n",
              "      <td>0</td>\n",
              "      <td>...</td>\n",
              "      <td>0</td>\n",
              "      <td>0</td>\n",
              "      <td>0</td>\n",
              "      <td>0</td>\n",
              "      <td>0</td>\n",
              "      <td>0</td>\n",
              "      <td>0</td>\n",
              "      <td>0</td>\n",
              "      <td>0</td>\n",
              "      <td>0</td>\n",
              "    </tr>\n",
              "  </tbody>\n",
              "</table>\n",
              "<p>1 rows × 24431 columns</p>\n",
              "</div>\n",
              "    <div class=\"colab-df-buttons\">\n",
              "\n",
              "  <div class=\"colab-df-container\">\n",
              "    <button class=\"colab-df-convert\" onclick=\"convertToInteractive('df-cdda66ba-7efd-4472-83e2-49d0f35b905f')\"\n",
              "            title=\"Convert this dataframe to an interactive table.\"\n",
              "            style=\"display:none;\">\n",
              "\n",
              "  <svg xmlns=\"http://www.w3.org/2000/svg\" height=\"24px\" viewBox=\"0 -960 960 960\">\n",
              "    <path d=\"M120-120v-720h720v720H120Zm60-500h600v-160H180v160Zm220 220h160v-160H400v160Zm0 220h160v-160H400v160ZM180-400h160v-160H180v160Zm440 0h160v-160H620v160ZM180-180h160v-160H180v160Zm440 0h160v-160H620v160Z\"/>\n",
              "  </svg>\n",
              "    </button>\n",
              "\n",
              "  <style>\n",
              "    .colab-df-container {\n",
              "      display:flex;\n",
              "      gap: 12px;\n",
              "    }\n",
              "\n",
              "    .colab-df-convert {\n",
              "      background-color: #E8F0FE;\n",
              "      border: none;\n",
              "      border-radius: 50%;\n",
              "      cursor: pointer;\n",
              "      display: none;\n",
              "      fill: #1967D2;\n",
              "      height: 32px;\n",
              "      padding: 0 0 0 0;\n",
              "      width: 32px;\n",
              "    }\n",
              "\n",
              "    .colab-df-convert:hover {\n",
              "      background-color: #E2EBFA;\n",
              "      box-shadow: 0px 1px 2px rgba(60, 64, 67, 0.3), 0px 1px 3px 1px rgba(60, 64, 67, 0.15);\n",
              "      fill: #174EA6;\n",
              "    }\n",
              "\n",
              "    .colab-df-buttons div {\n",
              "      margin-bottom: 4px;\n",
              "    }\n",
              "\n",
              "    [theme=dark] .colab-df-convert {\n",
              "      background-color: #3B4455;\n",
              "      fill: #D2E3FC;\n",
              "    }\n",
              "\n",
              "    [theme=dark] .colab-df-convert:hover {\n",
              "      background-color: #434B5C;\n",
              "      box-shadow: 0px 1px 3px 1px rgba(0, 0, 0, 0.15);\n",
              "      filter: drop-shadow(0px 1px 2px rgba(0, 0, 0, 0.3));\n",
              "      fill: #FFFFFF;\n",
              "    }\n",
              "  </style>\n",
              "\n",
              "    <script>\n",
              "      const buttonEl =\n",
              "        document.querySelector('#df-cdda66ba-7efd-4472-83e2-49d0f35b905f button.colab-df-convert');\n",
              "      buttonEl.style.display =\n",
              "        google.colab.kernel.accessAllowed ? 'block' : 'none';\n",
              "\n",
              "      async function convertToInteractive(key) {\n",
              "        const element = document.querySelector('#df-cdda66ba-7efd-4472-83e2-49d0f35b905f');\n",
              "        const dataTable =\n",
              "          await google.colab.kernel.invokeFunction('convertToInteractive',\n",
              "                                                    [key], {});\n",
              "        if (!dataTable) return;\n",
              "\n",
              "        const docLinkHtml = 'Like what you see? Visit the ' +\n",
              "          '<a target=\"_blank\" href=https://colab.research.google.com/notebooks/data_table.ipynb>data table notebook</a>'\n",
              "          + ' to learn more about interactive tables.';\n",
              "        element.innerHTML = '';\n",
              "        dataTable['output_type'] = 'display_data';\n",
              "        await google.colab.output.renderOutput(dataTable, element);\n",
              "        const docLink = document.createElement('div');\n",
              "        docLink.innerHTML = docLinkHtml;\n",
              "        element.appendChild(docLink);\n",
              "      }\n",
              "    </script>\n",
              "  </div>\n",
              "\n",
              "    </div>\n",
              "  </div>\n"
            ]
          },
          "metadata": {},
          "execution_count": 8
        }
      ]
    },
    {
      "cell_type": "code",
      "metadata": {
        "colab": {
          "base_uri": "https://localhost:8080/"
        },
        "id": "9XSZyYCpT1Pk",
        "outputId": "50803724-f4b0-4cf7-bbc8-bc895a691c32"
      },
      "source": [
        "tmr = Timer() # runtime limit (in seconds). Add all of your code after the timer"
      ],
      "execution_count": 9,
      "outputs": [
        {
          "output_type": "stream",
          "name": "stdout",
          "text": [
            "⏳ started. You have 300 sec. Good luck!\n"
          ]
        }
      ]
    },
    {
      "cell_type": "markdown",
      "metadata": {
        "id": "3NcTKbw3KhAn"
      },
      "source": [
        "<hr color=green size=40>\n",
        "\n",
        "<strong><font color=green size=5>⏳Timed Green Playground (TGP): Your ideas, code, documentation, and timer START HERE!</font></strong>\n",
        "\n",
        "<font color=green>Students: Keep all your definitions, code, documentation in <b>TGP</b>. Modifying any code outside of TGP incurs penalties."
      ]
    },
    {
      "cell_type": "markdown",
      "metadata": {
        "id": "YJs0jS4fIO1j"
      },
      "source": [
        "<font color=green><h3><b>$\\alpha$. Split observations into blocks of temporal train and test sets</b><h3>"
      ]
    },
    {
      "cell_type": "code",
      "source": [
        "# Import All Packages Here\n",
        "import gc\n",
        "import random\n",
        "import os"
      ],
      "metadata": {
        "id": "B5Ae9Nm94OIS"
      },
      "execution_count": 10,
      "outputs": []
    },
    {
      "cell_type": "code",
      "source": [
        "# Feature flags for performing testing and validation - turn on when testing changes\n",
        "TRAIN_WITH_VALIDATION_SET=False # Use a validation set when training and print the validation metrics at each training epoch"
      ],
      "metadata": {
        "id": "jXGpMFu54TxQ"
      },
      "execution_count": 11,
      "outputs": []
    },
    {
      "cell_type": "code",
      "source": [
        "# Ensure consistent run timings by preventing unexpected memory management\n",
        "gc.collect()\n",
        "for gpu in tf.config.experimental.list_physical_devices('GPU'):\n",
        "    tf.config.experimental.set_memory_growth(gpu, False)"
      ],
      "metadata": {
        "colab": {
          "base_uri": "https://localhost:8080/"
        },
        "id": "H6XCgFgA4Uod",
        "outputId": "a45e4f79-777b-41d2-84ab-e845d91118d9"
      },
      "execution_count": 12,
      "outputs": [
        {
          "output_type": "execute_result",
          "data": {
            "text/plain": [
              "0"
            ]
          },
          "metadata": {},
          "execution_count": 12
        }
      ]
    },
    {
      "cell_type": "code",
      "source": [
        "# Ensure repeatability when using the GPU\n",
        "# Credit: https://stackoverflow.com/questions/36288235/how-to-get-stable-results-with-tensorflow-setting-random-seed\n",
        "seed = 0\n",
        "# tf.config.threading.set_inter_op_parallelism_threads(1)\n",
        "# tf.config.threading.set_intra_op_parallelism_threads(1)\n",
        "tf.random.set_seed(seed)\n",
        "np.random.seed(seed)\n",
        "os.environ['PYTHONHASHSEED'] = str(seed)\n",
        "os.environ['TF_DETERMINISTIC_OPS'] = '1'\n",
        "os.environ['TF_CUDNN_DETERMINISTIC'] = '1'\n",
        "random.seed(seed)"
      ],
      "metadata": {
        "id": "nDlaEROw4WH1"
      },
      "execution_count": 13,
      "outputs": []
    },
    {
      "cell_type": "markdown",
      "metadata": {
        "id": "_SljnhkIUEPM"
      },
      "source": [
        "<font color=green>This is your baseline DNN model. Remember to [seed all your experiments](https://keras.io/getting_started/faq/#how-can-i-obtain-reproducible-results-using-keras-during-development) for reproducibility. [Status of GPU-Determinism in TF](https://github.com/NVIDIA/framework-determinism/blob/master/tensorflow_status.md)."
      ]
    },
    {
      "cell_type": "code",
      "source": [
        "import numpy as np\n",
        "import pandas as pd\n",
        "from sklearn.pipeline import Pipeline\n",
        "from sklearn.preprocessing import StandardScaler\n",
        "from sklearn.compose import ColumnTransformer\n",
        "from tensorflow import keras\n",
        "from tensorflow.keras.models import Sequential\n",
        "from tensorflow.keras.layers import LSTM, Dropout, Dense\n",
        "from tensorflow.keras.initializers import GlorotUniform\n",
        "from sklearn.base import BaseEstimator, TransformerMixin\n",
        "import pandas as pd\n",
        "\n",
        "class MovingAverageTransformer(BaseEstimator, TransformerMixin):\n",
        "    def __init__(self, window_size=7, columns=None):\n",
        "        self.window_size = window_size  # The size of the window for moving average\n",
        "        if columns is None:\n",
        "            self.columns = []  # Initialize columns as an empty list if None is passed\n",
        "        else:\n",
        "            self.columns = columns  # The columns on which to apply moving average\n",
        "\n",
        "    def fit(self, X, y=None):\n",
        "        # No fitting process needed for a stateless transformer, so just return self\n",
        "        return self\n",
        "\n",
        "    def transform(self, X):\n",
        "        # Make a copy of the DataFrame to not alter the original one\n",
        "        X_transformed = X.copy()\n",
        "\n",
        "        # Apply moving average only to the specified columns\n",
        "        for col in self.columns:\n",
        "            # Apply the rolling window and calculate the mean\n",
        "            X_transformed[f'{col}_sma_{self.window_size}'] = X_transformed[col].rolling(window=self.window_size).mean()\n",
        "\n",
        "            # Fill any NaN values resulting from the rolling mean with the original values\n",
        "            X_transformed[f'{col}_sma_{self.window_size}'].fillna(X_transformed[col], inplace=True)\n",
        "\n",
        "        # Return the transformed DataFrame\n",
        "        return X_transformed\n",
        "\n",
        "# Moving Average calculation\n",
        "def moving_average(a, n=3):\n",
        "    ret = np.cumsum(a, dtype=float)\n",
        "    ret[n:] = ret[n:] - ret[:-n]\n",
        "    return np.append(np.array([np.nan]*n), ret[n - 1:] / n)[1:]\n",
        "\n",
        "# Hull Moving Average calculation for inference\n",
        "def calc_hull_ma_inference(series, N=50):\n",
        "    # Check if the series is shorter than the required window size\n",
        "    if len(series) < N:\n",
        "        # If the series is too short, we cannot calculate the Hull Moving Average accurately\n",
        "        return np.nan  # Returning NaN or some indicator that the HMA cannot be computed\n",
        "\n",
        "    # Calculate the Simple Moving Averages (SMA1 and SMA2)\n",
        "    SMA1 = moving_average(series, N)\n",
        "    SMA2 = moving_average(series, int(N/2))\n",
        "\n",
        "    # Make sure SMA2 is the same length as SMA1\n",
        "    SMA1 = SMA1[-len(SMA2):]  # Slice SMA1 to match the length of SMA2\n",
        "\n",
        "    # Calculate the Hull Moving Average (HMA)\n",
        "    res = (2 * SMA2 - SMA1)\n",
        "    # Use the sqrt of N for the final average part of the Hull calculation\n",
        "    return np.mean(res[-int(np.sqrt(N)):])\n",
        "\n",
        "class HullMovingAverageTransformer(BaseEstimator, TransformerMixin):\n",
        "    def __init__(self, window_sizes=[50], columns=None):\n",
        "        self.window_sizes = window_sizes  # List of window sizes for Hull Moving Average\n",
        "        if columns is None:\n",
        "            self.columns = []  # Initialize columns as an empty list if None is passed\n",
        "        else:\n",
        "            self.columns = columns  # The columns on which to apply Hull Moving Average\n",
        "\n",
        "    def fit(self, X, y=None):\n",
        "        # No fitting process needed for a stateless transformer, so just return self\n",
        "        return self\n",
        "\n",
        "    def transform(self, X):\n",
        "        # Make a copy of the DataFrame to not alter the original one\n",
        "        X_transformed = X.copy()\n",
        "\n",
        "        # Apply Hull Moving Average only to the specified columns\n",
        "        for col in self.columns:\n",
        "            for window in self.window_sizes:\n",
        "                hull_col_name = f'{col}_hull_{window}'\n",
        "                # Calculate Hull Moving Average for the given window size\n",
        "                X_transformed[hull_col_name] = X_transformed[col].rolling(window=window, min_periods=1).apply(\n",
        "                    lambda x: calc_hull_ma_inference(x.values, N=window), raw=False)\n",
        "\n",
        "                # Fill any NaN values that may have been created during the transformation\n",
        "                X_transformed[hull_col_name].fillna(method='bfill', inplace=True)\n",
        "\n",
        "        # Return the transformed DataFrame\n",
        "        return X_transformed\n",
        "\n",
        "# Example usage:\n",
        "# Specify the columns that we want to apply the Hull Moving Average to\n",
        "columns_to_apply_HMA = ['Close']\n",
        "\n",
        "# Initialize transformer with desired window sizes\n",
        "hma_transformer = HullMovingAverageTransformer(window_sizes=[50, 240], columns=columns_to_apply_HMA)\n",
        "\n",
        "\n",
        "\n",
        "\n",
        "# Specify the columns that we want to apply the moving average to\n",
        "columns_to_apply_MA = ['Count', 'Open', 'High', 'Low', 'Volume', 'VWAP']\n",
        "\n",
        "# Create a pipeline with the preprocessor and any other steps you might need\n",
        "pipeline = Pipeline(steps=[\n",
        "    ('moving_average', MovingAverageTransformer(window_size=7, columns=columns_to_apply_MA)),\n",
        "    # ('hm_tranformer', HullMovingAverageTransformer(window_sizes=[50, 240], columns=columns_to_apply_HMA)),\n",
        "    ])\n",
        "\n",
        "# Fit the pipeline to your data\n",
        "pipeline.fit(tXY)\n",
        "\n",
        "# Apply transformations to the entire dataset\n",
        "tXY_transformed = pipeline.transform(tXY)"
      ],
      "metadata": {
        "colab": {
          "base_uri": "https://localhost:8080/",
          "height": 91
        },
        "id": "eHpOh-ixpxc6",
        "outputId": "244d120c-00be-4b4a-c05e-f52d2da1a640"
      },
      "execution_count": 14,
      "outputs": [
        {
          "output_type": "execute_result",
          "data": {
            "text/plain": [
              "Pipeline(steps=[('moving_average',\n",
              "                 MovingAverageTransformer(columns=['Count', 'Open', 'High',\n",
              "                                                   'Low', 'Volume', 'VWAP']))])"
            ],
            "text/html": [
              "<style>#sk-container-id-1 {color: black;background-color: white;}#sk-container-id-1 pre{padding: 0;}#sk-container-id-1 div.sk-toggleable {background-color: white;}#sk-container-id-1 label.sk-toggleable__label {cursor: pointer;display: block;width: 100%;margin-bottom: 0;padding: 0.3em;box-sizing: border-box;text-align: center;}#sk-container-id-1 label.sk-toggleable__label-arrow:before {content: \"▸\";float: left;margin-right: 0.25em;color: #696969;}#sk-container-id-1 label.sk-toggleable__label-arrow:hover:before {color: black;}#sk-container-id-1 div.sk-estimator:hover label.sk-toggleable__label-arrow:before {color: black;}#sk-container-id-1 div.sk-toggleable__content {max-height: 0;max-width: 0;overflow: hidden;text-align: left;background-color: #f0f8ff;}#sk-container-id-1 div.sk-toggleable__content pre {margin: 0.2em;color: black;border-radius: 0.25em;background-color: #f0f8ff;}#sk-container-id-1 input.sk-toggleable__control:checked~div.sk-toggleable__content {max-height: 200px;max-width: 100%;overflow: auto;}#sk-container-id-1 input.sk-toggleable__control:checked~label.sk-toggleable__label-arrow:before {content: \"▾\";}#sk-container-id-1 div.sk-estimator input.sk-toggleable__control:checked~label.sk-toggleable__label {background-color: #d4ebff;}#sk-container-id-1 div.sk-label input.sk-toggleable__control:checked~label.sk-toggleable__label {background-color: #d4ebff;}#sk-container-id-1 input.sk-hidden--visually {border: 0;clip: rect(1px 1px 1px 1px);clip: rect(1px, 1px, 1px, 1px);height: 1px;margin: -1px;overflow: hidden;padding: 0;position: absolute;width: 1px;}#sk-container-id-1 div.sk-estimator {font-family: monospace;background-color: #f0f8ff;border: 1px dotted black;border-radius: 0.25em;box-sizing: border-box;margin-bottom: 0.5em;}#sk-container-id-1 div.sk-estimator:hover {background-color: #d4ebff;}#sk-container-id-1 div.sk-parallel-item::after {content: \"\";width: 100%;border-bottom: 1px solid gray;flex-grow: 1;}#sk-container-id-1 div.sk-label:hover label.sk-toggleable__label {background-color: #d4ebff;}#sk-container-id-1 div.sk-serial::before {content: \"\";position: absolute;border-left: 1px solid gray;box-sizing: border-box;top: 0;bottom: 0;left: 50%;z-index: 0;}#sk-container-id-1 div.sk-serial {display: flex;flex-direction: column;align-items: center;background-color: white;padding-right: 0.2em;padding-left: 0.2em;position: relative;}#sk-container-id-1 div.sk-item {position: relative;z-index: 1;}#sk-container-id-1 div.sk-parallel {display: flex;align-items: stretch;justify-content: center;background-color: white;position: relative;}#sk-container-id-1 div.sk-item::before, #sk-container-id-1 div.sk-parallel-item::before {content: \"\";position: absolute;border-left: 1px solid gray;box-sizing: border-box;top: 0;bottom: 0;left: 50%;z-index: -1;}#sk-container-id-1 div.sk-parallel-item {display: flex;flex-direction: column;z-index: 1;position: relative;background-color: white;}#sk-container-id-1 div.sk-parallel-item:first-child::after {align-self: flex-end;width: 50%;}#sk-container-id-1 div.sk-parallel-item:last-child::after {align-self: flex-start;width: 50%;}#sk-container-id-1 div.sk-parallel-item:only-child::after {width: 0;}#sk-container-id-1 div.sk-dashed-wrapped {border: 1px dashed gray;margin: 0 0.4em 0.5em 0.4em;box-sizing: border-box;padding-bottom: 0.4em;background-color: white;}#sk-container-id-1 div.sk-label label {font-family: monospace;font-weight: bold;display: inline-block;line-height: 1.2em;}#sk-container-id-1 div.sk-label-container {text-align: center;}#sk-container-id-1 div.sk-container {/* jupyter's `normalize.less` sets `[hidden] { display: none; }` but bootstrap.min.css set `[hidden] { display: none !important; }` so we also need the `!important` here to be able to override the default hidden behavior on the sphinx rendered scikit-learn.org. See: https://github.com/scikit-learn/scikit-learn/issues/21755 */display: inline-block !important;position: relative;}#sk-container-id-1 div.sk-text-repr-fallback {display: none;}</style><div id=\"sk-container-id-1\" class=\"sk-top-container\"><div class=\"sk-text-repr-fallback\"><pre>Pipeline(steps=[(&#x27;moving_average&#x27;,\n",
              "                 MovingAverageTransformer(columns=[&#x27;Count&#x27;, &#x27;Open&#x27;, &#x27;High&#x27;,\n",
              "                                                   &#x27;Low&#x27;, &#x27;Volume&#x27;, &#x27;VWAP&#x27;]))])</pre><b>In a Jupyter environment, please rerun this cell to show the HTML representation or trust the notebook. <br />On GitHub, the HTML representation is unable to render, please try loading this page with nbviewer.org.</b></div><div class=\"sk-container\" hidden><div class=\"sk-item sk-dashed-wrapped\"><div class=\"sk-label-container\"><div class=\"sk-label sk-toggleable\"><input class=\"sk-toggleable__control sk-hidden--visually\" id=\"sk-estimator-id-1\" type=\"checkbox\" ><label for=\"sk-estimator-id-1\" class=\"sk-toggleable__label sk-toggleable__label-arrow\">Pipeline</label><div class=\"sk-toggleable__content\"><pre>Pipeline(steps=[(&#x27;moving_average&#x27;,\n",
              "                 MovingAverageTransformer(columns=[&#x27;Count&#x27;, &#x27;Open&#x27;, &#x27;High&#x27;,\n",
              "                                                   &#x27;Low&#x27;, &#x27;Volume&#x27;, &#x27;VWAP&#x27;]))])</pre></div></div></div><div class=\"sk-serial\"><div class=\"sk-item\"><div class=\"sk-estimator sk-toggleable\"><input class=\"sk-toggleable__control sk-hidden--visually\" id=\"sk-estimator-id-2\" type=\"checkbox\" ><label for=\"sk-estimator-id-2\" class=\"sk-toggleable__label sk-toggleable__label-arrow\">MovingAverageTransformer</label><div class=\"sk-toggleable__content\"><pre>MovingAverageTransformer(columns=[&#x27;Count&#x27;, &#x27;Open&#x27;, &#x27;High&#x27;, &#x27;Low&#x27;, &#x27;Volume&#x27;,\n",
              "                                  &#x27;VWAP&#x27;])</pre></div></div></div></div></div></div></div>"
            ]
          },
          "metadata": {},
          "execution_count": 14
        }
      ]
    },
    {
      "cell_type": "code",
      "source": [
        "tXY_transformed.head()"
      ],
      "metadata": {
        "colab": {
          "base_uri": "https://localhost:8080/",
          "height": 267
        },
        "id": "N3ve2jbQhbtu",
        "outputId": "29ce58b6-cd4c-4b69-88d6-b6b991d9217a"
      },
      "execution_count": 15,
      "outputs": [
        {
          "output_type": "execute_result",
          "data": {
            "text/plain": [
              "    Count  Open  High  Low  Close  Volume  VWAP  Count_sma_7  Open_sma_7  \\\n",
              "id                                                                         \n",
              "0      64   0.2   0.2  0.2    0.2     447   0.2         64.0         0.2   \n",
              "1      72   0.2   0.2  0.2    0.2     592   0.2         72.0         0.2   \n",
              "..    ...   ...   ...  ...    ...     ...   ...          ...         ...   \n",
              "3      77   0.2   0.2  0.2    0.2     515   0.2         77.0         0.2   \n",
              "4      77   0.2   0.2  0.2    0.2     682   0.2         77.0         0.2   \n",
              "\n",
              "    High_sma_7  Low_sma_7  Volume_sma_7  VWAP_sma_7  \n",
              "id                                                   \n",
              "0          0.2        0.2         447.0         0.2  \n",
              "1          0.2        0.2         592.0         0.2  \n",
              "..         ...        ...           ...         ...  \n",
              "3          0.2        0.2         515.0         0.2  \n",
              "4          0.2        0.2         682.0         0.2  \n",
              "\n",
              "[5 rows x 13 columns]"
            ],
            "text/html": [
              "\n",
              "  <div id=\"df-7269243b-95e4-416a-9b9c-7308c51d931c\" class=\"colab-df-container\">\n",
              "    <div>\n",
              "<style scoped>\n",
              "    .dataframe tbody tr th:only-of-type {\n",
              "        vertical-align: middle;\n",
              "    }\n",
              "\n",
              "    .dataframe tbody tr th {\n",
              "        vertical-align: top;\n",
              "    }\n",
              "\n",
              "    .dataframe thead th {\n",
              "        text-align: right;\n",
              "    }\n",
              "</style>\n",
              "<table border=\"1\" class=\"dataframe\">\n",
              "  <thead>\n",
              "    <tr style=\"text-align: right;\">\n",
              "      <th></th>\n",
              "      <th>Count</th>\n",
              "      <th>Open</th>\n",
              "      <th>High</th>\n",
              "      <th>Low</th>\n",
              "      <th>Close</th>\n",
              "      <th>Volume</th>\n",
              "      <th>VWAP</th>\n",
              "      <th>Count_sma_7</th>\n",
              "      <th>Open_sma_7</th>\n",
              "      <th>High_sma_7</th>\n",
              "      <th>Low_sma_7</th>\n",
              "      <th>Volume_sma_7</th>\n",
              "      <th>VWAP_sma_7</th>\n",
              "    </tr>\n",
              "    <tr>\n",
              "      <th>id</th>\n",
              "      <th></th>\n",
              "      <th></th>\n",
              "      <th></th>\n",
              "      <th></th>\n",
              "      <th></th>\n",
              "      <th></th>\n",
              "      <th></th>\n",
              "      <th></th>\n",
              "      <th></th>\n",
              "      <th></th>\n",
              "      <th></th>\n",
              "      <th></th>\n",
              "      <th></th>\n",
              "    </tr>\n",
              "  </thead>\n",
              "  <tbody>\n",
              "    <tr>\n",
              "      <th>0</th>\n",
              "      <td>64</td>\n",
              "      <td>0.2</td>\n",
              "      <td>0.2</td>\n",
              "      <td>0.2</td>\n",
              "      <td>0.2</td>\n",
              "      <td>447</td>\n",
              "      <td>0.2</td>\n",
              "      <td>64.0</td>\n",
              "      <td>0.2</td>\n",
              "      <td>0.2</td>\n",
              "      <td>0.2</td>\n",
              "      <td>447.0</td>\n",
              "      <td>0.2</td>\n",
              "    </tr>\n",
              "    <tr>\n",
              "      <th>1</th>\n",
              "      <td>72</td>\n",
              "      <td>0.2</td>\n",
              "      <td>0.2</td>\n",
              "      <td>0.2</td>\n",
              "      <td>0.2</td>\n",
              "      <td>592</td>\n",
              "      <td>0.2</td>\n",
              "      <td>72.0</td>\n",
              "      <td>0.2</td>\n",
              "      <td>0.2</td>\n",
              "      <td>0.2</td>\n",
              "      <td>592.0</td>\n",
              "      <td>0.2</td>\n",
              "    </tr>\n",
              "    <tr>\n",
              "      <th>...</th>\n",
              "      <td>...</td>\n",
              "      <td>...</td>\n",
              "      <td>...</td>\n",
              "      <td>...</td>\n",
              "      <td>...</td>\n",
              "      <td>...</td>\n",
              "      <td>...</td>\n",
              "      <td>...</td>\n",
              "      <td>...</td>\n",
              "      <td>...</td>\n",
              "      <td>...</td>\n",
              "      <td>...</td>\n",
              "      <td>...</td>\n",
              "    </tr>\n",
              "    <tr>\n",
              "      <th>3</th>\n",
              "      <td>77</td>\n",
              "      <td>0.2</td>\n",
              "      <td>0.2</td>\n",
              "      <td>0.2</td>\n",
              "      <td>0.2</td>\n",
              "      <td>515</td>\n",
              "      <td>0.2</td>\n",
              "      <td>77.0</td>\n",
              "      <td>0.2</td>\n",
              "      <td>0.2</td>\n",
              "      <td>0.2</td>\n",
              "      <td>515.0</td>\n",
              "      <td>0.2</td>\n",
              "    </tr>\n",
              "    <tr>\n",
              "      <th>4</th>\n",
              "      <td>77</td>\n",
              "      <td>0.2</td>\n",
              "      <td>0.2</td>\n",
              "      <td>0.2</td>\n",
              "      <td>0.2</td>\n",
              "      <td>682</td>\n",
              "      <td>0.2</td>\n",
              "      <td>77.0</td>\n",
              "      <td>0.2</td>\n",
              "      <td>0.2</td>\n",
              "      <td>0.2</td>\n",
              "      <td>682.0</td>\n",
              "      <td>0.2</td>\n",
              "    </tr>\n",
              "  </tbody>\n",
              "</table>\n",
              "<p>5 rows × 13 columns</p>\n",
              "</div>\n",
              "    <div class=\"colab-df-buttons\">\n",
              "\n",
              "  <div class=\"colab-df-container\">\n",
              "    <button class=\"colab-df-convert\" onclick=\"convertToInteractive('df-7269243b-95e4-416a-9b9c-7308c51d931c')\"\n",
              "            title=\"Convert this dataframe to an interactive table.\"\n",
              "            style=\"display:none;\">\n",
              "\n",
              "  <svg xmlns=\"http://www.w3.org/2000/svg\" height=\"24px\" viewBox=\"0 -960 960 960\">\n",
              "    <path d=\"M120-120v-720h720v720H120Zm60-500h600v-160H180v160Zm220 220h160v-160H400v160Zm0 220h160v-160H400v160ZM180-400h160v-160H180v160Zm440 0h160v-160H620v160ZM180-180h160v-160H180v160Zm440 0h160v-160H620v160Z\"/>\n",
              "  </svg>\n",
              "    </button>\n",
              "\n",
              "  <style>\n",
              "    .colab-df-container {\n",
              "      display:flex;\n",
              "      gap: 12px;\n",
              "    }\n",
              "\n",
              "    .colab-df-convert {\n",
              "      background-color: #E8F0FE;\n",
              "      border: none;\n",
              "      border-radius: 50%;\n",
              "      cursor: pointer;\n",
              "      display: none;\n",
              "      fill: #1967D2;\n",
              "      height: 32px;\n",
              "      padding: 0 0 0 0;\n",
              "      width: 32px;\n",
              "    }\n",
              "\n",
              "    .colab-df-convert:hover {\n",
              "      background-color: #E2EBFA;\n",
              "      box-shadow: 0px 1px 2px rgba(60, 64, 67, 0.3), 0px 1px 3px 1px rgba(60, 64, 67, 0.15);\n",
              "      fill: #174EA6;\n",
              "    }\n",
              "\n",
              "    .colab-df-buttons div {\n",
              "      margin-bottom: 4px;\n",
              "    }\n",
              "\n",
              "    [theme=dark] .colab-df-convert {\n",
              "      background-color: #3B4455;\n",
              "      fill: #D2E3FC;\n",
              "    }\n",
              "\n",
              "    [theme=dark] .colab-df-convert:hover {\n",
              "      background-color: #434B5C;\n",
              "      box-shadow: 0px 1px 3px 1px rgba(0, 0, 0, 0.15);\n",
              "      filter: drop-shadow(0px 1px 2px rgba(0, 0, 0, 0.3));\n",
              "      fill: #FFFFFF;\n",
              "    }\n",
              "  </style>\n",
              "\n",
              "    <script>\n",
              "      const buttonEl =\n",
              "        document.querySelector('#df-7269243b-95e4-416a-9b9c-7308c51d931c button.colab-df-convert');\n",
              "      buttonEl.style.display =\n",
              "        google.colab.kernel.accessAllowed ? 'block' : 'none';\n",
              "\n",
              "      async function convertToInteractive(key) {\n",
              "        const element = document.querySelector('#df-7269243b-95e4-416a-9b9c-7308c51d931c');\n",
              "        const dataTable =\n",
              "          await google.colab.kernel.invokeFunction('convertToInteractive',\n",
              "                                                    [key], {});\n",
              "        if (!dataTable) return;\n",
              "\n",
              "        const docLinkHtml = 'Like what you see? Visit the ' +\n",
              "          '<a target=\"_blank\" href=https://colab.research.google.com/notebooks/data_table.ipynb>data table notebook</a>'\n",
              "          + ' to learn more about interactive tables.';\n",
              "        element.innerHTML = '';\n",
              "        dataTable['output_type'] = 'display_data';\n",
              "        await google.colab.output.renderOutput(dataTable, element);\n",
              "        const docLink = document.createElement('div');\n",
              "        docLink.innerHTML = docLinkHtml;\n",
              "        element.appendChild(docLink);\n",
              "      }\n",
              "    </script>\n",
              "  </div>\n",
              "\n",
              "\n",
              "<div id=\"df-c6685e40-e7b1-48a1-83b1-04608d1ed51d\">\n",
              "  <button class=\"colab-df-quickchart\" onclick=\"quickchart('df-c6685e40-e7b1-48a1-83b1-04608d1ed51d')\"\n",
              "            title=\"Suggest charts\"\n",
              "            style=\"display:none;\">\n",
              "\n",
              "<svg xmlns=\"http://www.w3.org/2000/svg\" height=\"24px\"viewBox=\"0 0 24 24\"\n",
              "     width=\"24px\">\n",
              "    <g>\n",
              "        <path d=\"M19 3H5c-1.1 0-2 .9-2 2v14c0 1.1.9 2 2 2h14c1.1 0 2-.9 2-2V5c0-1.1-.9-2-2-2zM9 17H7v-7h2v7zm4 0h-2V7h2v10zm4 0h-2v-4h2v4z\"/>\n",
              "    </g>\n",
              "</svg>\n",
              "  </button>\n",
              "\n",
              "<style>\n",
              "  .colab-df-quickchart {\n",
              "      --bg-color: #E8F0FE;\n",
              "      --fill-color: #1967D2;\n",
              "      --hover-bg-color: #E2EBFA;\n",
              "      --hover-fill-color: #174EA6;\n",
              "      --disabled-fill-color: #AAA;\n",
              "      --disabled-bg-color: #DDD;\n",
              "  }\n",
              "\n",
              "  [theme=dark] .colab-df-quickchart {\n",
              "      --bg-color: #3B4455;\n",
              "      --fill-color: #D2E3FC;\n",
              "      --hover-bg-color: #434B5C;\n",
              "      --hover-fill-color: #FFFFFF;\n",
              "      --disabled-bg-color: #3B4455;\n",
              "      --disabled-fill-color: #666;\n",
              "  }\n",
              "\n",
              "  .colab-df-quickchart {\n",
              "    background-color: var(--bg-color);\n",
              "    border: none;\n",
              "    border-radius: 50%;\n",
              "    cursor: pointer;\n",
              "    display: none;\n",
              "    fill: var(--fill-color);\n",
              "    height: 32px;\n",
              "    padding: 0;\n",
              "    width: 32px;\n",
              "  }\n",
              "\n",
              "  .colab-df-quickchart:hover {\n",
              "    background-color: var(--hover-bg-color);\n",
              "    box-shadow: 0 1px 2px rgba(60, 64, 67, 0.3), 0 1px 3px 1px rgba(60, 64, 67, 0.15);\n",
              "    fill: var(--button-hover-fill-color);\n",
              "  }\n",
              "\n",
              "  .colab-df-quickchart-complete:disabled,\n",
              "  .colab-df-quickchart-complete:disabled:hover {\n",
              "    background-color: var(--disabled-bg-color);\n",
              "    fill: var(--disabled-fill-color);\n",
              "    box-shadow: none;\n",
              "  }\n",
              "\n",
              "  .colab-df-spinner {\n",
              "    border: 2px solid var(--fill-color);\n",
              "    border-color: transparent;\n",
              "    border-bottom-color: var(--fill-color);\n",
              "    animation:\n",
              "      spin 1s steps(1) infinite;\n",
              "  }\n",
              "\n",
              "  @keyframes spin {\n",
              "    0% {\n",
              "      border-color: transparent;\n",
              "      border-bottom-color: var(--fill-color);\n",
              "      border-left-color: var(--fill-color);\n",
              "    }\n",
              "    20% {\n",
              "      border-color: transparent;\n",
              "      border-left-color: var(--fill-color);\n",
              "      border-top-color: var(--fill-color);\n",
              "    }\n",
              "    30% {\n",
              "      border-color: transparent;\n",
              "      border-left-color: var(--fill-color);\n",
              "      border-top-color: var(--fill-color);\n",
              "      border-right-color: var(--fill-color);\n",
              "    }\n",
              "    40% {\n",
              "      border-color: transparent;\n",
              "      border-right-color: var(--fill-color);\n",
              "      border-top-color: var(--fill-color);\n",
              "    }\n",
              "    60% {\n",
              "      border-color: transparent;\n",
              "      border-right-color: var(--fill-color);\n",
              "    }\n",
              "    80% {\n",
              "      border-color: transparent;\n",
              "      border-right-color: var(--fill-color);\n",
              "      border-bottom-color: var(--fill-color);\n",
              "    }\n",
              "    90% {\n",
              "      border-color: transparent;\n",
              "      border-bottom-color: var(--fill-color);\n",
              "    }\n",
              "  }\n",
              "</style>\n",
              "\n",
              "  <script>\n",
              "    async function quickchart(key) {\n",
              "      const quickchartButtonEl =\n",
              "        document.querySelector('#' + key + ' button');\n",
              "      quickchartButtonEl.disabled = true;  // To prevent multiple clicks.\n",
              "      quickchartButtonEl.classList.add('colab-df-spinner');\n",
              "      try {\n",
              "        const charts = await google.colab.kernel.invokeFunction(\n",
              "            'suggestCharts', [key], {});\n",
              "      } catch (error) {\n",
              "        console.error('Error during call to suggestCharts:', error);\n",
              "      }\n",
              "      quickchartButtonEl.classList.remove('colab-df-spinner');\n",
              "      quickchartButtonEl.classList.add('colab-df-quickchart-complete');\n",
              "    }\n",
              "    (() => {\n",
              "      let quickchartButtonEl =\n",
              "        document.querySelector('#df-c6685e40-e7b1-48a1-83b1-04608d1ed51d button');\n",
              "      quickchartButtonEl.style.display =\n",
              "        google.colab.kernel.accessAllowed ? 'block' : 'none';\n",
              "    })();\n",
              "  </script>\n",
              "</div>\n",
              "    </div>\n",
              "  </div>\n"
            ]
          },
          "metadata": {},
          "execution_count": 15
        }
      ]
    },
    {
      "cell_type": "code",
      "metadata": {
        "colab": {
          "base_uri": "https://localhost:8080/",
          "height": 331
        },
        "id": "_0zQ1_EIUGil",
        "outputId": "0c4ba207-0c1b-4cff-81b5-b8080a07f263"
      },
      "source": [
        "K, (N, p), Nx, Ny = 1000, tXY_transformed.shape, 3550, len(pY)  # samples, dataset dim, train set size, forecast set size\n",
        "LtX, LtY = [], []\n",
        "for i in range(N-Ny-K, N-Ny):                     # populate K samples with past X series and future Y series\n",
        "  LtX.append(tXY_transformed.iloc[(i-Nx):i, :].values)        # X: historical 7Dim observations for Nx steps behind\n",
        "  LtY.append(tXY_transformed.loc[i:(i+Ny-1),'Close'].values)  # Y: future closing prices for Ny steps ahead\n",
        "taX, taY = np.array(LtX), np.array(LtY)           # training arrays past input X and future output Y\n",
        "\n",
        "# Define the percentage for the validation set (e.g., 20%)\n",
        "validation_percentage = 0.2\n",
        "\n",
        "# Calculate the number of samples for the validation set\n",
        "num_validation_samples = int(K * validation_percentage)\n",
        "\n",
        "# Split the data into training and validation sets\n",
        "# Training set\n",
        "train_taX = taX[:-num_validation_samples]\n",
        "train_taY = taY[:-num_validation_samples]\n",
        "\n",
        "# Validation set\n",
        "validation_taX = taX[-num_validation_samples:]\n",
        "validation_taY = taY[-num_validation_samples:]\n",
        "\n",
        "print(f'taX.shape=(K,Nx,p)={taX.shape}; taY=(K,Ny)={taY.shape}')  # convert to 3-tensors\n",
        "\n",
        "df = pd.DataFrame(np.r_[taX[0,:,4], taY[0,:]], columns=['train train price'])\n",
        "ax = df.plot(figsize=(30,3), title=f'Training series (before and after)- just a closing price series (out of K={K})');\n",
        "pd.DataFrame(taX[0,:,4], columns=['train past price']).plot(grid=True, ax=ax);"
      ],
      "execution_count": 16,
      "outputs": [
        {
          "output_type": "stream",
          "name": "stdout",
          "text": [
            "taX.shape=(K,Nx,p)=(1000, 3550, 13); taY=(K,Ny)=(1000, 24431)\n"
          ]
        },
        {
          "output_type": "display_data",
          "data": {
            "text/plain": [
              "<Figure size 3000x300 with 1 Axes>"
            ],
            "image/png": "[encoded data removed]"
          },
          "metadata": {}
        }
      ]
    },
    {
      "cell_type": "code",
      "source": [
        "taY.shape"
      ],
      "metadata": {
        "colab": {
          "base_uri": "https://localhost:8080/"
        },
        "id": "simRqIrC3zMg",
        "outputId": "5d06c51a-8dd9-427b-be10-d5c49e4bff06"
      },
      "execution_count": null,
      "outputs": [
        {
          "output_type": "execute_result",
          "data": {
            "text/plain": [
              "(1000, 24431)"
            ]
          },
          "metadata": {},
          "execution_count": 152
        }
      ]
    },
    {
      "cell_type": "code",
      "source": [
        "print(taX.shape)\n",
        "print(train_taX.shape)\n",
        "print(validation_taX.shape)"
      ],
      "metadata": {
        "colab": {
          "base_uri": "https://localhost:8080/"
        },
        "id": "U-3whto99z-r",
        "outputId": "09765bbb-561d-463d-8550-9fd93e52b4c0"
      },
      "execution_count": null,
      "outputs": [
        {
          "output_type": "stream",
          "name": "stdout",
          "text": [
            "(1000, 1000, 13)\n",
            "(800, 1000, 13)\n",
            "(200, 1000, 13)\n"
          ]
        }
      ]
    },
    {
      "cell_type": "code",
      "source": [
        "N = tXY_transformed.shape[0]  # Total number of rows in the DataFrame\n",
        "Ny = len(pY)  # Number of future steps you want to predict\n",
        "K = 70  # Number of samples you want to create\n",
        "\n",
        "# The maximum size for Nx is then calculated as follows:\n",
        "max_Nx = N - Ny - K\n",
        "print(max_Nx)"
      ],
      "metadata": {
        "colab": {
          "base_uri": "https://localhost:8080/"
        },
        "id": "ih9nAHOx969Q",
        "outputId": "430f7a78-7b10-4d92-dacb-af7c5be89160"
      },
      "execution_count": null,
      "outputs": [
        {
          "output_type": "stream",
          "name": "stdout",
          "text": [
            "475499\n"
          ]
        }
      ]
    },
    {
      "cell_type": "markdown",
      "metadata": {
        "id": "ps10fP_or8xA"
      },
      "source": [
        "<font color=green><h3><b>$\\beta$. Build and fit RNN</b><h3>"
      ]
    },
    {
      "cell_type": "markdown",
      "metadata": {
        "id": "Qszqi_GVUJMC"
      },
      "source": [
        "<font color=green>Build an LSTM model with two hidden layers. It splits $K$ samples into batches with 7D series $X_{N_x\\times p}$ as input and 1D series $Y_{N_y\\times 1}$ as output.\n"
      ]
    },
    {
      "cell_type": "code",
      "source": [
        "import tensorflow as tf\n",
        "from tensorflow.keras import backend as K\n",
        "\n",
        "# Define a custom metric for Pearson's R\n",
        "def pearson_correlation_coefficient(y_true, y_pred):\n",
        "    x = y_true\n",
        "    y = y_pred\n",
        "    mx = K.mean(x)\n",
        "    my = K.mean(y)\n",
        "    xm, ym = x - mx, y - my\n",
        "    r_num = K.sum(tf.multiply(xm, ym))\n",
        "    r_den = K.sqrt(tf.multiply(K.sum(K.square(xm)), K.sum(K.square(ym))))\n",
        "    r = r_num / r_den\n",
        "\n",
        "    # To avoid NaN in division\n",
        "    r = tf.where(tf.math.is_nan(r), tf.zeros_like(r), r)\n",
        "    return r"
      ],
      "metadata": {
        "id": "k3_4N1wA9NAO"
      },
      "execution_count": 17,
      "outputs": []
    },
    {
      "cell_type": "code",
      "source": [
        "%%time\n",
        "Init = keras.initializers.glorot_uniform(seed=13)\n",
        "l1_lr= 0.01\n",
        "l2_lr= 0.01\n",
        "bias_lr= 0.1\n",
        "learning_rate= 0.005\n",
        "beta_1= 0.9\n",
        "beta_2= 0.7\n",
        "\n",
        "m = Sequential(\n",
        "  [LSTM(234, return_sequences=True, input_shape=[None, p], name='LSTM1', kernel_initializer=Init, recurrent_initializer=Init),\n",
        "  Dropout(.1, name='d1'),\n",
        "  LSTM(170, name='LSTM2', kernel_initializer=Init),\n",
        "  Dropout(.1, name='d2'),\n",
        "  Dense(Ny, name='out', kernel_initializer=Init) ], name='RNN_model') # we build Ny forecasts\n",
        "m.summary()\n",
        "m.compile(optimizer=keras.optimizers.Nadam(learning_rate= learning_rate, beta_1=beta_1, beta_2=beta_2), loss='mean_squared_error', metrics = [pearson_correlation_coefficient])\n",
        "hist = m.fit(taX, taY, epochs=24, batch_size=32)"
      ],
      "metadata": {
        "colab": {
          "base_uri": "https://localhost:8080/"
        },
        "id": "LikVDR5pJ6VI",
        "outputId": "2b048839-ba02-4608-dc77-986897f5b75d"
      },
      "execution_count": 26,
      "outputs": [
        {
          "output_type": "stream",
          "name": "stdout",
          "text": [
            "Model: \"RNN_model\"\n",
            "_________________________________________________________________\n",
            " Layer (type)                Output Shape              Param #   \n",
            "=================================================================\n",
            " LSTM1 (LSTM)                (None, None, 234)         232128    \n",
            "                                                                 \n",
            " d1 (Dropout)                (None, None, 234)         0         \n",
            "                                                                 \n",
            " LSTM2 (LSTM)                (None, 170)               275400    \n",
            "                                                                 \n",
            " d2 (Dropout)                (None, 170)               0         \n",
            "                                                                 \n",
            " out (Dense)                 (None, 24431)             4177701   \n",
            "                                                                 \n",
            "=================================================================\n",
            "Total params: 4685229 (17.87 MB)\n",
            "Trainable params: 4685229 (17.87 MB)\n",
            "Non-trainable params: 0 (0.00 Byte)\n",
            "_________________________________________________________________\n",
            "Epoch 1/24\n",
            "32/32 [==============================] - 17s 372ms/step - loss: 0.1698 - pearson_correlation_coefficient: 0.7971\n",
            "Epoch 2/24\n",
            "32/32 [==============================] - 11s 356ms/step - loss: 0.0072 - pearson_correlation_coefficient: 0.9341\n",
            "Epoch 3/24\n",
            "32/32 [==============================] - 10s 310ms/step - loss: 0.0068 - pearson_correlation_coefficient: 0.9358\n",
            "Epoch 4/24\n",
            "32/32 [==============================] - 10s 312ms/step - loss: 0.0065 - pearson_correlation_coefficient: 0.9381\n",
            "Epoch 5/24\n",
            "32/32 [==============================] - 10s 312ms/step - loss: 0.0066 - pearson_correlation_coefficient: 0.9387\n",
            "Epoch 6/24\n",
            "32/32 [==============================] - 10s 304ms/step - loss: 0.0065 - pearson_correlation_coefficient: 0.9377\n",
            "Epoch 7/24\n",
            "32/32 [==============================] - 10s 309ms/step - loss: 0.0063 - pearson_correlation_coefficient: 0.9400\n",
            "Epoch 8/24\n",
            "32/32 [==============================] - 10s 310ms/step - loss: 0.0062 - pearson_correlation_coefficient: 0.9424\n",
            "Epoch 9/24\n",
            "32/32 [==============================] - 10s 305ms/step - loss: 0.0066 - pearson_correlation_coefficient: 0.9388\n",
            "Epoch 10/24\n",
            "32/32 [==============================] - 10s 310ms/step - loss: 0.0061 - pearson_correlation_coefficient: 0.9412\n",
            "Epoch 11/24\n",
            "32/32 [==============================] - 10s 310ms/step - loss: 0.0060 - pearson_correlation_coefficient: 0.9426\n",
            "Epoch 12/24\n",
            "32/32 [==============================] - 10s 308ms/step - loss: 0.0060 - pearson_correlation_coefficient: 0.9423\n",
            "Epoch 13/24\n",
            "32/32 [==============================] - 10s 312ms/step - loss: 0.0063 - pearson_correlation_coefficient: 0.9382\n",
            "Epoch 14/24\n",
            "32/32 [==============================] - 10s 310ms/step - loss: 0.0058 - pearson_correlation_coefficient: 0.9429\n",
            "Epoch 15/24\n",
            "32/32 [==============================] - 10s 309ms/step - loss: 0.0060 - pearson_correlation_coefficient: 0.9425\n",
            "Epoch 16/24\n",
            "32/32 [==============================] - 10s 310ms/step - loss: 0.0059 - pearson_correlation_coefficient: 0.9431\n",
            "Epoch 17/24\n",
            "32/32 [==============================] - 10s 305ms/step - loss: 0.0058 - pearson_correlation_coefficient: 0.9448\n",
            "Epoch 18/24\n",
            "32/32 [==============================] - 10s 309ms/step - loss: 0.0057 - pearson_correlation_coefficient: 0.9444\n",
            "Epoch 19/24\n",
            "32/32 [==============================] - 10s 310ms/step - loss: 0.0057 - pearson_correlation_coefficient: 0.9434\n",
            "Epoch 20/24\n",
            "32/32 [==============================] - 10s 306ms/step - loss: 0.0057 - pearson_correlation_coefficient: 0.9449\n",
            "Epoch 21/24\n",
            "32/32 [==============================] - 10s 310ms/step - loss: 0.0057 - pearson_correlation_coefficient: 0.9444\n",
            "Epoch 22/24\n",
            "32/32 [==============================] - 10s 313ms/step - loss: 0.0055 - pearson_correlation_coefficient: 0.9439\n",
            "Epoch 23/24\n",
            "32/32 [==============================] - 10s 305ms/step - loss: 0.0057 - pearson_correlation_coefficient: 0.9438\n",
            "Epoch 24/24\n",
            "32/32 [==============================] - 10s 311ms/step - loss: 0.0054 - pearson_correlation_coefficient: 0.9468\n",
            "CPU times: user 3min 25s, sys: 31.5 s, total: 3min 56s\n",
            "Wall time: 4min 28s\n"
          ]
        }
      ]
    },
    {
      "cell_type": "code",
      "source": [
        "# _________________________________________________________________\n",
        "# Epoch 1/10\n",
        "# 2/2 [==============================] - 6s 2s/step - loss: 1.8195 - pearson_correlation_coefficient: 0.0106 - val_loss: 1.7277 - val_pearson_correlation_coefficient: 0.0294\n",
        "# Epoch 2/10\n",
        "# 2/2 [==============================] - 3s 2s/step - loss: 1.6976 - pearson_correlation_coefficient: 0.0323 - val_loss: 1.5424 - val_pearson_correlation_coefficient: 0.0515\n",
        "# Epoch 3/10\n",
        "# 2/2 [==============================] - 3s 2s/step - loss: 1.4947 - pearson_correlation_coefficient: 0.0501 - val_loss: 1.2776 - val_pearson_correlation_coefficient: 0.0709\n",
        "# Epoch 4/10\n",
        "# 2/2 [==============================] - 3s 2s/step - loss: 1.2150 - pearson_correlation_coefficient: 0.0667 - val_loss: 0.9702 - val_pearson_correlation_coefficient: 0.0873\n",
        "# Epoch 5/10\n",
        "# 2/2 [==============================] - 3s 2s/step - loss: 0.9140 - pearson_correlation_coefficient: 0.0787 - val_loss: 0.6670 - val_pearson_correlation_coefficient: 0.1055\n",
        "# Epoch 6/10\n",
        "# 2/2 [==============================] - 3s 2s/step - loss: 0.6266 - pearson_correlation_coefficient: 0.0895 - val_loss: 0.4061 - val_pearson_correlation_coefficient: 0.1315\n",
        "# Epoch 7/10\n",
        "# 2/2 [==============================] - 2s 1s/step - loss: 0.3628 - pearson_correlation_coefficient: 0.1113 - val_loss: 0.2069 - val_pearson_correlation_coefficient: 0.1818\n",
        "# Epoch 8/10\n",
        "# 2/2 [==============================] - 2s 1s/step - loss: 0.1827 - pearson_correlation_coefficient: 0.1413 - val_loss: 0.0821 - val_pearson_correlation_coefficient: 0.2857\n",
        "# Epoch 9/10\n",
        "# 2/2 [==============================] - 3s 2s/step - loss: 0.0754 - pearson_correlation_coefficient: 0.2274 - val_loss: 0.0367 - val_pearson_correlation_coefficient: 0.4796\n",
        "# Epoch 10/10\n",
        "# 2/2 [==============================] - 3s 2s/step - loss: 0.0427 - pearson_correlation_coefficient: 0.3784 - val_loss: 0.0508 - val_pearson_correlation_coefficient: 0.7297"
      ],
      "metadata": {
        "id": "kXRsLl_Qf_7N"
      },
      "execution_count": null,
      "outputs": []
    },
    {
      "cell_type": "markdown",
      "metadata": {
        "id": "cMz3t7GesD2Q"
      },
      "source": [
        "<font color=green><h3><b>$\\gamma$. Visualize forecasts</b><h3>"
      ]
    },
    {
      "cell_type": "markdown",
      "metadata": {
        "id": "Y4U8JH30UN2j"
      },
      "source": [
        "<font color=green>The plot below: the model memorized the prices from recent history (plus some local noise). Still you can use these predictions to visually (i.e. qualitatively) determine whether predictions are meaningful (i.e. have price-like shape) or just noise."
      ]
    },
    {
      "cell_type": "code",
      "source": [
        "tX_recent = tXY_transformed.iloc[-Nx:,:]  # most recent history of the coin\n",
        "print(f'tX_recent.shape=(Nx,p)={tX_recent.shape}')\n",
        "pY['Close'] = m.predict(tX_recent.values[np.newaxis,...]).flatten()  # the model expects a 3-tensor (K=1,Nx,p)\n",
        "ax = pd.concat([tX_recent.Close, pY.Close]).plot(figsize=(30,3), title='Most recent input X and forecasted output Y');\n",
        "tX_recent.Close.plot(ax=ax, grid=True);\n",
        "ax.legend([\"Future predicted closing prices\", \"Historical (train) closing prices\"]);"
      ],
      "metadata": {
        "colab": {
          "base_uri": "https://localhost:8080/",
          "height": 368
        },
        "id": "UIcnWC2oO-Ho",
        "outputId": "21cf92d2-6f9e-43b4-8c21-59b116c6e17d"
      },
      "execution_count": 27,
      "outputs": [
        {
          "output_type": "stream",
          "name": "stdout",
          "text": [
            "tX_recent.shape=(Nx,p)=(3550, 13)\n",
            "1/1 [==============================] - 1s 712ms/step\n"
          ]
        },
        {
          "output_type": "display_data",
          "data": {
            "text/plain": [
              "<Figure size 3000x300 with 1 Axes>"
            ],
            "image/png": "[encoded data removed]"
          },
          "metadata": {}
        }
      ]
    },
    {
      "cell_type": "code",
      "metadata": {
        "id": "DnebR-geUPSb",
        "colab": {
          "base_uri": "https://localhost:8080/",
          "height": 282
        },
        "outputId": "19baff38-a900-4b13-a3bd-2e2175907fd3"
      },
      "source": [
        "tX_recent = tXY_transformed.iloc[-Nx:,:]  # most recent history of the coin\n",
        "print(f'tX_recent.shape=(Nx,p)={tX_recent.shape}')\n",
        "pY['Close'] = m.predict(tX_recent.values[np.newaxis,...]).flatten()  # the model expects a 3-tensor (K=1,Nx,p)\n",
        "ax = pd.concat([tX_recent.Close, pY.Close]).plot(figsize=(30,3), title='Most recent input X and forecasted output Y');\n",
        "tX_recent.Close.plot(ax=ax, grid=True);\n",
        "ax.legend([\"Future predicted closing prices\", \"Historical (train) closing prices\"]);"
      ],
      "execution_count": null,
      "outputs": [
        {
          "output_type": "stream",
          "name": "stdout",
          "text": [
            "tX_recent.shape=(Nx,p)=(1000, 13)\n",
            "1/1 [==============================] - 1s 644ms/step\n"
          ]
        },
        {
          "output_type": "display_data",
          "data": {
            "text/plain": [
              "<Figure size 3000x300 with 1 Axes>"
            ],
            "image/png": "[encoded data removed]"
          },
          "metadata": {}
        }
      ]
    },
    {
      "cell_type": "markdown",
      "metadata": {
        "id": "OZWsxVIgURQm"
      },
      "source": [
        "<font color=green>\n",
        "\n",
        "1. The model generates a baseline submission CSV file, see Colab folder (🗀 on the left).\n",
        "1. You can download the generated CSV file and submit it to Kaggle."
      ]
    },
    {
      "cell_type": "markdown",
      "metadata": {
        "id": "JZU2XVWasJIE"
      },
      "source": [
        "<font color=green><h3><b>$\\delta$. Make predictions</b><h3>"
      ]
    },
    {
      "cell_type": "code",
      "metadata": {
        "id": "O_ZriML-UTXw"
      },
      "source": [
        "ToCSV(pY, '📈Milosz🐍')"
      ],
      "execution_count": 28,
      "outputs": []
    },
    {
      "cell_type": "markdown",
      "source": [
        "<font color=green><h3><b>$\\epsilon$. Documentation</b></h3></font>"
      ],
      "metadata": {
        "id": "aMVDxm-kEJis"
      }
    },
    {
      "cell_type": "markdown",
      "metadata": {
        "id": "OtOV3RVcwHAD"
      },
      "source": [
        "<font color=green><h4><b>Task 1. Explain Decisions in Preprocessing Pipeline</b></h4></font>\n",
        "\n",
        "<font color=green>\n",
        "Explain elements of your preprocessing pipeline i.e. feature engineering, subsampling, clustering, dimensionality reduction, etc.</font>\n",
        "\n",
        "<font color=green>\n",
        "\n",
        "1. Why did you choose these elements? (Something in EDA, prior experience,...? Note: EDA is not required)\n",
        "1. How do you evaluate the effectiveness of these elements?\n",
        "1. What else have you tried that worked or didn't?\n",
        "\n",
        "</font>"
      ]
    },
    {
      "cell_type": "markdown",
      "metadata": {
        "id": "39zfwMOXwHAD"
      },
      "source": [
        "<font color=red><b>Your answer here.</b></font>"
      ]
    },
    {
      "cell_type": "markdown",
      "metadata": {
        "id": "ppwkSmoEwHAD"
      },
      "source": [
        "<font color=green><h4><b>Task 2. Explain Decisions in Modeling Pipeline</b></h4></font>\n",
        "\n",
        "<font color=green>\n",
        "Explain your modeling approach, i.e. ideas you tried and why you thought they would be helpful.\n",
        "\n",
        "1. How did these decisions guide you in modeling?\n",
        "1. How do you evaluate the effectiveness of these elements?\n",
        "1. What else have you tried that worked or didn't?\n",
        "\n",
        "</font>"
      ]
    },
    {
      "cell_type": "markdown",
      "metadata": {
        "id": "vBXlrkB9wHAD"
      },
      "source": [
        "<font color=red><b>Your answer here.</b></font>"
      ]
    },
    {
      "cell_type": "markdown",
      "metadata": {
        "id": "pzBsjCvS_kEw"
      },
      "source": [
        "<font color=green><h3><b>$\\zeta$. References</b></h3></font>"
      ]
    },
    {
      "cell_type": "markdown",
      "metadata": {
        "id": "2kr8Q-9T_nAb"
      },
      "source": [
        "<font color=red><b>Your answer here.</b></font>\n",
        "\n",
        "<font color=green>\n",
        "Cite your sources to help your peers learn from these (and to avoid plagiarism claims). At the least, HOML textbook should be cited. Use Google Scholar to draw APA citation format for books and publications. Also cite StackOverflow, package documentation, and other meaningful internet resources.\n",
        "\n",
        "1. ...\n",
        "1. ..."
      ]
    },
    {
      "cell_type": "markdown",
      "metadata": {
        "id": "DoF2GoB_QGw9"
      },
      "source": [
        "<font size=5>⌛</font> <strong><font color=green size=5>Do not exceed competition's runtime limit! Do not write code outside TGP</font></strong>\n",
        "<hr color=green size=40>"
      ]
    },
    {
      "cell_type": "code",
      "metadata": {
        "id": "fbE5gM67Ub58",
        "colab": {
          "base_uri": "https://localhost:8080/"
        },
        "outputId": "e8f1fbf8-27b9-4640-ef9d-ee8351400f55"
      },
      "source": [
        "tmr.ShowTime()    # measure Colab's runtime. Do not remove. Keep as the last cell in your notebook."
      ],
      "execution_count": null,
      "outputs": [
        {
          "output_type": "stream",
          "name": "stdout",
          "text": [
            "\u001b[91m\u001b[1mRuntime is 931 sec > 300 sec limit!!!\u001b[0m\n"
          ]
        }
      ]
    },
    {
      "cell_type": "markdown",
      "metadata": {
        "id": "9g16vCtCUbFq"
      },
      "source": [
        "# 💡**Starter Ideas**"
      ]
    },
    {
      "cell_type": "markdown",
      "metadata": {
        "id": "YvS32F27UjFW"
      },
      "source": [
        "1. Try different RNN architectures and hyperparameters\n",
        "1. Try [correlation loss/metric](https://duckduckgo.com/?q=correlation+loss+in+tensorflow&ia=web) (or equivalent)\n",
        "1. Try longer/shorter history. FYI: GPU may not fit all observations, but you could lower the precision or simplify DNN\n",
        "1. Try forecasting returns (differences or log differences at different lags) instead of actual values. Returns might appear \"more\" stationary (You'll need to compute forecasted prices from forecasted returns later)\n",
        "1. Try new features: differences, fractions, powers of existing features, lagged features or lagged differences,..\n",
        "1. Try a different time scale. Eg. forecasting every $k$ steps and then imputing interim values\n",
        "1. Try technique in HOML pp.509-510\n",
        "1. Try (programmatically) assigning higher/lower weights to history or historical events (such as extreme events)\n",
        "1. Check [Kaggle G-Research Crypto Forecasting](https://www.kaggle.com/c/g-research-crypto-forecasting/code) competition for more suitable ideas.\n",
        "1. Try further smoothing/averaging and forecasting values at sparser intervals\n",
        "1. Try forecasting just the future trend"
      ]
    }
  ]
}